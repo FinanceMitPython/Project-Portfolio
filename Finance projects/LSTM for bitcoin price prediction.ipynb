{
 "cells": [
  {
   "cell_type": "markdown",
   "metadata": {},
   "source": [
    "In this small python script I try to predivt the movement of the Bitcoin price by using a Recurrent Neuronal Network with LSTM cells"
   ]
  },
  {
   "cell_type": "code",
   "execution_count": 3,
   "metadata": {},
   "outputs": [],
   "source": [
    "#import der libraries\n",
    "import pandas as pd\n",
    "import pandas_datareader as web\n",
    "import numpy as np\n",
    "import math\n",
    "import matplotlib.pyplot as plt\n",
    "\n",
    "from sklearn.preprocessing import MinMaxScaler\n",
    "from tensorflow.keras.models import Sequential\n",
    "from tensorflow.keras.layers import Dense, LSTM"
   ]
  },
  {
   "cell_type": "code",
   "execution_count": 4,
   "metadata": {},
   "outputs": [],
   "source": [
    "#setting the start and end date with the range of test days \n",
    "#here our model will learn on the last 60 days and predict the next price movement\n",
    "start = \"2019-01-01\"\n",
    "end = \"2021-01-01\"\n",
    "test_days = 60"
   ]
  },
  {
   "cell_type": "code",
   "execution_count": 6,
   "metadata": {},
   "outputs": [],
   "source": [
    "bitcoin = web.DataReader(\"BTC-USD\", data_source = \"yahoo\", start = start, end = end)"
   ]
  },
  {
   "cell_type": "code",
   "execution_count": 7,
   "metadata": {},
   "outputs": [
    {
     "data": {
      "text/plain": [
       "584"
      ]
     },
     "execution_count": 7,
     "metadata": {},
     "output_type": "execute_result"
    }
   ],
   "source": [
    "#getting the Adj Close column and storing the values into a seperate variable\n",
    "bitcoin = bitcoin.filter([\"Adj Close\"])\n",
    "bitcoin_data = bitcoin.values\n",
    "\n",
    "#setting a length to seperate our data into training and testing data\n",
    "training_len = math.ceil(len(bitcoin)*0.8)\n",
    "training_len"
   ]
  },
  {
   "cell_type": "markdown",
   "metadata": {},
   "source": [
    "To get better results we want to scale our data. By scaling the data we can minimize the loss during the model building"
   ]
  },
  {
   "cell_type": "code",
   "execution_count": 8,
   "metadata": {},
   "outputs": [],
   "source": [
    "#Skalieren der Daten zum übergeben an das RNN\n",
    "scaler = MinMaxScaler(feature_range =(0,1))\n",
    "scaled_data = scaler.fit_transform(bitcoin_data)"
   ]
  },
  {
   "cell_type": "code",
   "execution_count": 9,
   "metadata": {},
   "outputs": [],
   "source": [
    "#Taking 80% as training data\n",
    "train_data = scaled_data[:training_len]"
   ]
  },
  {
   "cell_type": "code",
   "execution_count": 10,
   "metadata": {},
   "outputs": [
    {
     "data": {
      "text/plain": [
       "(584, 1)"
      ]
     },
     "execution_count": 10,
     "metadata": {},
     "output_type": "execute_result"
    }
   ],
   "source": [
    "train_data.shape"
   ]
  },
  {
   "cell_type": "code",
   "execution_count": 13,
   "metadata": {},
   "outputs": [],
   "source": [
    "#now we need to generate some x and y values for our training data set here we create two empty \n",
    "#lists and append them by the values\n",
    "x_train = []\n",
    "y_train = []\n",
    "\n",
    "for i in range(test_days, len(train_data)):\n",
    "    x_train.append(train_data[i-test_days: i])\n",
    "    y_train.append(train_data[i])"
   ]
  },
  {
   "cell_type": "code",
   "execution_count": 14,
   "metadata": {},
   "outputs": [],
   "source": [
    "#We need to convert our lists into numpy arrays to give it to our model\n",
    "x_train, y_train = np.array(x_train), np.array(y_train)"
   ]
  },
  {
   "cell_type": "code",
   "execution_count": 15,
   "metadata": {},
   "outputs": [
    {
     "data": {
      "text/plain": [
       "(524, 60, 1)"
      ]
     },
     "execution_count": 15,
     "metadata": {},
     "output_type": "execute_result"
    }
   ],
   "source": [
    "#We also need to reshape our x_train data into a 3 dimensional array \n",
    "x_train = np.reshape(x_train, (x_train.shape[0], x_train.shape[1], 1))\n",
    "x_train.shape"
   ]
  },
  {
   "cell_type": "markdown",
   "metadata": {},
   "source": [
    "For our model I have added 4 layers which are 2 LSTM and 2 Dense layers. I think this is already enough for our model to work with but you can try some other variations too!"
   ]
  },
  {
   "cell_type": "code",
   "execution_count": 16,
   "metadata": {},
   "outputs": [
    {
     "name": "stdout",
     "output_type": "stream",
     "text": [
      "WARNING:tensorflow:From C:\\Users\\Han\\.conda\\envs\\python\\lib\\site-packages\\tensorflow\\python\\ops\\init_ops.py:1251: calling VarianceScaling.__init__ (from tensorflow.python.ops.init_ops) with dtype is deprecated and will be removed in a future version.\n",
      "Instructions for updating:\n",
      "Call initializer instance with the dtype argument instead of passing it to the constructor\n",
      "WARNING:tensorflow:From C:\\Users\\Han\\.conda\\envs\\python\\lib\\site-packages\\tensorflow\\python\\ops\\math_grad.py:1250: add_dispatch_support.<locals>.wrapper (from tensorflow.python.ops.array_ops) is deprecated and will be removed in a future version.\n",
      "Instructions for updating:\n",
      "Use tf.where in 2.0, which has the same broadcast rule as np.where\n",
      "Epoch 1/10\n",
      "524/524 [==============================] - 17s 33ms/sample - loss: 9.7031e-04\n",
      "Epoch 2/10\n",
      "524/524 [==============================] - 17s 32ms/sample - loss: 5.1141e-04\n",
      "Epoch 3/10\n",
      "524/524 [==============================] - 17s 32ms/sample - loss: 3.8742e-04\n",
      "Epoch 4/10\n",
      "524/524 [==============================] - 17s 32ms/sample - loss: 3.1219e-04s - loss: 3.1298e-\n",
      "Epoch 5/10\n",
      "524/524 [==============================] - 17s 32ms/sample - loss: 3.1211e-04\n",
      "Epoch 6/10\n",
      "524/524 [==============================] - 17s 32ms/sample - loss: 2.4130e-04\n",
      "Epoch 7/10\n",
      "524/524 [==============================] - 17s 32ms/sample - loss: 2.3242e-04\n",
      "Epoch 8/10\n",
      "524/524 [==============================] - 17s 32ms/sample - loss: 2.1222e-04\n",
      "Epoch 9/10\n",
      "524/524 [==============================] - 17s 32ms/sample - loss: 2.4730e-04\n",
      "Epoch 10/10\n",
      "524/524 [==============================] - 17s 32ms/sample - loss: 2.2827e-04\n"
     ]
    },
    {
     "data": {
      "text/plain": [
       "<tensorflow.python.keras.callbacks.History at 0x2a76bfc0d30>"
      ]
     },
     "execution_count": 16,
     "metadata": {},
     "output_type": "execute_result"
    }
   ],
   "source": [
    "#Building our Model\n",
    "model = Sequential()\n",
    "model.add(LSTM(32, return_sequences = True, input_shape = (x_train.shape[1], 1)))\n",
    "model.add(LSTM(32, return_sequences = False))\n",
    "model.add(Dense(16))\n",
    "model.add(Dense(1))\n",
    "\n",
    "model.compile(optimizer=\"adam\", loss=\"mean_squared_error\")\n",
    "model.fit(x_train, y_train, batch_size=1, epochs=10)"
   ]
  },
  {
   "cell_type": "markdown",
   "metadata": {},
   "source": [
    "Now after we trained our model we need to generate the testing data. This is almost like getting the training data only the start and end rows are different"
   ]
  },
  {
   "cell_type": "code",
   "execution_count": 17,
   "metadata": {},
   "outputs": [],
   "source": [
    "#Create the testing data set\n",
    "#Create a new array containing scaled values \n",
    "test_data = scaled_data[training_len - test_days: , :]\n",
    "#Createt the data sets x_test and y_test\n",
    "x_test = []\n",
    "y_test = bitcoin_data[training_len: , :]\n",
    "\n",
    "for i in range(test_days, len(test_data)):\n",
    "    x_test.append(test_data[i-test_days:i, 0])\n",
    "    "
   ]
  },
  {
   "cell_type": "code",
   "execution_count": 18,
   "metadata": {},
   "outputs": [],
   "source": [
    "#Convert the data to a numpy array\n",
    "x_test = np.array(x_test)\n",
    "#Reshape the data\n",
    "x_test = np.reshape(x_test, (x_test.shape[0], x_test.shape[1], 1))"
   ]
  },
  {
   "cell_type": "code",
   "execution_count": 19,
   "metadata": {},
   "outputs": [],
   "source": [
    "# Get the models predicted price values \n",
    "predictions = model.predict(x_test)\n",
    "predictions = scaler.inverse_transform(predictions)"
   ]
  },
  {
   "cell_type": "markdown",
   "metadata": {},
   "source": [
    "Just to check how well our model works we can calculate the root mean squared error (RMSE) "
   ]
  },
  {
   "cell_type": "code",
   "execution_count": 20,
   "metadata": {},
   "outputs": [
    {
     "data": {
      "text/plain": [
       "114.99078663793104"
      ]
     },
     "execution_count": 20,
     "metadata": {},
     "output_type": "execute_result"
    }
   ],
   "source": [
    "#Get the root mean squared error (RMSE)\n",
    "rmse = np.sqrt( np.mean(predictions - y_test)**2)\n",
    "rmse"
   ]
  },
  {
   "cell_type": "code",
   "execution_count": 21,
   "metadata": {},
   "outputs": [
    {
     "name": "stderr",
     "output_type": "stream",
     "text": [
      "C:\\Users\\Han\\.conda\\envs\\python\\lib\\site-packages\\ipykernel_launcher.py:4: SettingWithCopyWarning: \n",
      "A value is trying to be set on a copy of a slice from a DataFrame.\n",
      "Try using .loc[row_indexer,col_indexer] = value instead\n",
      "\n",
      "See the caveats in the documentation: https://pandas.pydata.org/pandas-docs/stable/user_guide/indexing.html#returning-a-view-versus-a-copy\n",
      "  after removing the cwd from sys.path.\n"
     ]
    },
    {
     "data": {
      "text/plain": [
       "<matplotlib.legend.Legend at 0x2a76f00e4e0>"
      ]
     },
     "execution_count": 21,
     "metadata": {},
     "output_type": "execute_result"
    },
    {
     "data": {
      "image/png": "[encoded data removed]",
      "text/plain": [
       "<Figure size 1152x576 with 1 Axes>"
      ]
     },
     "metadata": {
      "needs_background": "light"
     },
     "output_type": "display_data"
    }
   ],
   "source": [
    "#Plot the data\n",
    "train = bitcoin[: training_len]\n",
    "valid = bitcoin[training_len:]\n",
    "valid[\"Predictions\"] = predictions\n",
    "#Visualize the data\n",
    "plt.figure(figsize=(16,8))\n",
    "plt.title(\"Model\")\n",
    "plt.xlabel(\"Date\")\n",
    "plt.ylabel(\"Adj Close Price\")\n",
    "plt.plot(train[\"Adj Close\"])\n",
    "plt.plot(valid[[\"Adj Close\", \"Predictions\"]])\n",
    "plt.legend([\"Train\", \"Val\", \"Predictions\"])"
   ]
  },
  {
   "cell_type": "code",
   "execution_count": 22,
   "metadata": {},
   "outputs": [
    {
     "name": "stderr",
     "output_type": "stream",
     "text": [
      "C:\\Users\\Han\\.conda\\envs\\python\\lib\\site-packages\\ipykernel_launcher.py:1: SettingWithCopyWarning: \n",
      "A value is trying to be set on a copy of a slice from a DataFrame.\n",
      "Try using .loc[row_indexer,col_indexer] = value instead\n",
      "\n",
      "See the caveats in the documentation: https://pandas.pydata.org/pandas-docs/stable/user_guide/indexing.html#returning-a-view-versus-a-copy\n",
      "  \"\"\"Entry point for launching an IPython kernel.\n"
     ]
    }
   ],
   "source": [
    "valid[\"difference\"] = (abs(valid[\"Adj Close\"] - valid[\"Predictions\"])) / valid[\"Adj Close\"]"
   ]
  },
  {
   "cell_type": "code",
   "execution_count": 23,
   "metadata": {},
   "outputs": [
    {
     "data": {
      "text/html": [
       "<div>\n",
       "<style scoped>\n",
       "    .dataframe tbody tr th:only-of-type {\n",
       "        vertical-align: middle;\n",
       "    }\n",
       "\n",
       "    .dataframe tbody tr th {\n",
       "        vertical-align: top;\n",
       "    }\n",
       "\n",
       "    .dataframe thead th {\n",
       "        text-align: right;\n",
       "    }\n",
       "</style>\n",
       "<table border=\"1\" class=\"dataframe\">\n",
       "  <thead>\n",
       "    <tr style=\"text-align: right;\">\n",
       "      <th></th>\n",
       "      <th>Adj Close</th>\n",
       "      <th>Predictions</th>\n",
       "      <th>difference</th>\n",
       "    </tr>\n",
       "    <tr>\n",
       "      <th>Date</th>\n",
       "      <th></th>\n",
       "      <th></th>\n",
       "      <th></th>\n",
       "    </tr>\n",
       "  </thead>\n",
       "  <tbody>\n",
       "    <tr>\n",
       "      <th>2020-08-07</th>\n",
       "      <td>11754.045898</td>\n",
       "      <td>11858.306641</td>\n",
       "      <td>0.008870</td>\n",
       "    </tr>\n",
       "    <tr>\n",
       "      <th>2020-08-08</th>\n",
       "      <td>11675.739258</td>\n",
       "      <td>11929.883789</td>\n",
       "      <td>0.021767</td>\n",
       "    </tr>\n",
       "    <tr>\n",
       "      <th>2020-08-09</th>\n",
       "      <td>11878.111328</td>\n",
       "      <td>11887.667969</td>\n",
       "      <td>0.000805</td>\n",
       "    </tr>\n",
       "    <tr>\n",
       "      <th>2020-08-10</th>\n",
       "      <td>11410.525391</td>\n",
       "      <td>12049.268555</td>\n",
       "      <td>0.055978</td>\n",
       "    </tr>\n",
       "    <tr>\n",
       "      <th>2020-08-11</th>\n",
       "      <td>11584.934570</td>\n",
       "      <td>11690.786133</td>\n",
       "      <td>0.009137</td>\n",
       "    </tr>\n",
       "    <tr>\n",
       "      <th>...</th>\n",
       "      <td>...</td>\n",
       "      <td>...</td>\n",
       "      <td>...</td>\n",
       "    </tr>\n",
       "    <tr>\n",
       "      <th>2020-12-29</th>\n",
       "      <td>27362.437500</td>\n",
       "      <td>25992.285156</td>\n",
       "      <td>0.050074</td>\n",
       "    </tr>\n",
       "    <tr>\n",
       "      <th>2020-12-30</th>\n",
       "      <td>28840.953125</td>\n",
       "      <td>26139.236328</td>\n",
       "      <td>0.093676</td>\n",
       "    </tr>\n",
       "    <tr>\n",
       "      <th>2020-12-31</th>\n",
       "      <td>29001.720703</td>\n",
       "      <td>27747.257812</td>\n",
       "      <td>0.043255</td>\n",
       "    </tr>\n",
       "    <tr>\n",
       "      <th>2021-01-01</th>\n",
       "      <td>29374.152344</td>\n",
       "      <td>27612.144531</td>\n",
       "      <td>0.059985</td>\n",
       "    </tr>\n",
       "    <tr>\n",
       "      <th>2021-01-02</th>\n",
       "      <td>32127.267578</td>\n",
       "      <td>27709.826172</td>\n",
       "      <td>0.137498</td>\n",
       "    </tr>\n",
       "  </tbody>\n",
       "</table>\n",
       "<p>145 rows × 3 columns</p>\n",
       "</div>"
      ],
      "text/plain": [
       "               Adj Close   Predictions  difference\n",
       "Date                                              \n",
       "2020-08-07  11754.045898  11858.306641    0.008870\n",
       "2020-08-08  11675.739258  11929.883789    0.021767\n",
       "2020-08-09  11878.111328  11887.667969    0.000805\n",
       "2020-08-10  11410.525391  12049.268555    0.055978\n",
       "2020-08-11  11584.934570  11690.786133    0.009137\n",
       "...                  ...           ...         ...\n",
       "2020-12-29  27362.437500  25992.285156    0.050074\n",
       "2020-12-30  28840.953125  26139.236328    0.093676\n",
       "2020-12-31  29001.720703  27747.257812    0.043255\n",
       "2021-01-01  29374.152344  27612.144531    0.059985\n",
       "2021-01-02  32127.267578  27709.826172    0.137498\n",
       "\n",
       "[145 rows x 3 columns]"
      ]
     },
     "execution_count": 23,
     "metadata": {},
     "output_type": "execute_result"
    }
   ],
   "source": [
    "valid"
   ]
  }
 ],
 "metadata": {
  "kernelspec": {
   "display_name": "Python 3",
   "language": "python",
   "name": "python3"
  },
  "language_info": {
   "codemirror_mode": {
    "name": "ipython",
    "version": 3
   },
   "file_extension": ".py",
   "mimetype": "text/x-python",
   "name": "python",
   "nbconvert_exporter": "python",
   "pygments_lexer": "ipython3",
   "version": "3.6.11"
  }
 },
 "nbformat": 4,
 "nbformat_minor": 4
}
