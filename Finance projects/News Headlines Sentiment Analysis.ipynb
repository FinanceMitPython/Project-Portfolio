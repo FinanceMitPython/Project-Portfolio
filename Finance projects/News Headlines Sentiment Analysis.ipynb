{
 "cells": [
  {
   "cell_type": "markdown",
   "metadata": {},
   "source": [
    "In This small project I use some webscraping to get news headlines for companys and perform a Sentiment Analysis based on the headline of the news. The website I scrape data from is finviz which is a very reliable news source.  "
   ]
  },
  {
   "cell_type": "code",
   "execution_count": 1,
   "metadata": {},
   "outputs": [],
   "source": [
    "from urllib.request import urlopen, Request\n",
    "from bs4 import BeautifulSoup\n",
    "import nltk\n",
    "import pandas as pd\n",
    "import matplotlib.pyplot as plt"
   ]
  },
  {
   "cell_type": "code",
   "execution_count": 2,
   "metadata": {},
   "outputs": [],
   "source": [
    "# If you havent download vader lexicon you can download it by using \n",
    "# nltk.download(\"vader_lexicon\")"
   ]
  },
  {
   "cell_type": "code",
   "execution_count": 3,
   "metadata": {},
   "outputs": [],
   "source": [
    "from nltk.sentiment.vader import SentimentIntensityAnalyzer"
   ]
  },
  {
   "cell_type": "code",
   "execution_count": 4,
   "metadata": {},
   "outputs": [],
   "source": [
    "finviz_url = \"https://finviz.com/quote.ashx?t=\"\n",
    "tickers = [\"AMZN\", \"AMD\", \"NVDA\"]"
   ]
  },
  {
   "cell_type": "markdown",
   "metadata": {},
   "source": [
    "First we need to create an empty dictionary where we can store our web scraped news tables which will then be parsed to only get the news headlines and date + time. Here we use BeautifulSoup and Request to get all the html from the website."
   ]
  },
  {
   "cell_type": "code",
   "execution_count": 9,
   "metadata": {},
   "outputs": [],
   "source": [
    "news_tables = {}\n",
    "\n",
    "for ticker in tickers:\n",
    "    url = finviz_url + ticker\n",
    "    \n",
    "    req = Request(url=url, headers={\"user-agent\": \"my-app\"})\n",
    "    response = urlopen(req)\n",
    "    \n",
    "    html = BeautifulSoup(response, \"html\")\n",
    "    news_table = html.find(id=\"news-table\")\n",
    "    news_tables[ticker] = news_table\n",
    "    "
   ]
  },
  {
   "cell_type": "code",
   "execution_count": 10,
   "metadata": {},
   "outputs": [
    {
     "name": "stdout",
     "output_type": "stream",
     "text": [
      "[['AMZN', 'Jan-15-21', '06:00AM\\xa0\\xa0', 'Biden is the right man to address inequality: Democratic megadonor'], ['AMZN', 'Jan-15-21', '05:00AM\\xa0\\xa0', 'Amazon Keeps Buying Pricey Jets After Promising a Drone Fleet'], ['AMZN', 'Jan-14-21', '09:08PM\\xa0\\xa0', 'Amazon faces class-action lawsuit over eBook pricing']]\n"
     ]
    }
   ],
   "source": [
    "parsed_data = []\n",
    "date = None\n",
    "for ticker, news_table in news_tables.items():\n",
    "    \n",
    "    for row in news_table.findAll(\"tr\"):\n",
    "        \n",
    "        title = row.a.text\n",
    "        \n",
    "        date_data = row.td.text.split(\" \")\n",
    "        \n",
    "        if len(date_data) == 1:\n",
    "            time = date_data[0]\n",
    "        else:\n",
    "            date = date_data[0]\n",
    "            time = date_data[1]\n",
    "        parsed_data.append([ticker, date, time, title])\n",
    "        \n",
    "print(parsed_data[:3])"
   ]
  },
  {
   "cell_type": "code",
   "execution_count": 11,
   "metadata": {},
   "outputs": [
    {
     "data": {
      "text/html": [
       "<div>\n",
       "<style scoped>\n",
       "    .dataframe tbody tr th:only-of-type {\n",
       "        vertical-align: middle;\n",
       "    }\n",
       "\n",
       "    .dataframe tbody tr th {\n",
       "        vertical-align: top;\n",
       "    }\n",
       "\n",
       "    .dataframe thead th {\n",
       "        text-align: right;\n",
       "    }\n",
       "</style>\n",
       "<table border=\"1\" class=\"dataframe\">\n",
       "  <thead>\n",
       "    <tr style=\"text-align: right;\">\n",
       "      <th></th>\n",
       "      <th>ticker</th>\n",
       "      <th>date</th>\n",
       "      <th>time</th>\n",
       "      <th>title</th>\n",
       "    </tr>\n",
       "  </thead>\n",
       "  <tbody>\n",
       "    <tr>\n",
       "      <th>0</th>\n",
       "      <td>AMZN</td>\n",
       "      <td>Jan-15-21</td>\n",
       "      <td>06:00AM</td>\n",
       "      <td>Biden is the right man to address inequality: ...</td>\n",
       "    </tr>\n",
       "    <tr>\n",
       "      <th>1</th>\n",
       "      <td>AMZN</td>\n",
       "      <td>Jan-15-21</td>\n",
       "      <td>05:00AM</td>\n",
       "      <td>Amazon Keeps Buying Pricey Jets After Promisin...</td>\n",
       "    </tr>\n",
       "    <tr>\n",
       "      <th>2</th>\n",
       "      <td>AMZN</td>\n",
       "      <td>Jan-14-21</td>\n",
       "      <td>09:08PM</td>\n",
       "      <td>Amazon faces class-action lawsuit over eBook p...</td>\n",
       "    </tr>\n",
       "    <tr>\n",
       "      <th>3</th>\n",
       "      <td>AMZN</td>\n",
       "      <td>Jan-14-21</td>\n",
       "      <td>05:48PM</td>\n",
       "      <td>Dow Jones Futures: $1.9 Trillion Biden Stimulu...</td>\n",
       "    </tr>\n",
       "    <tr>\n",
       "      <th>4</th>\n",
       "      <td>AMZN</td>\n",
       "      <td>Jan-14-21</td>\n",
       "      <td>05:01PM</td>\n",
       "      <td>The Stock Market Had a Better Day Than it Seem...</td>\n",
       "    </tr>\n",
       "  </tbody>\n",
       "</table>\n",
       "</div>"
      ],
      "text/plain": [
       "  ticker       date       time  \\\n",
       "0   AMZN  Jan-15-21  06:00AM     \n",
       "1   AMZN  Jan-15-21  05:00AM     \n",
       "2   AMZN  Jan-14-21  09:08PM     \n",
       "3   AMZN  Jan-14-21  05:48PM     \n",
       "4   AMZN  Jan-14-21  05:01PM     \n",
       "\n",
       "                                               title  \n",
       "0  Biden is the right man to address inequality: ...  \n",
       "1  Amazon Keeps Buying Pricey Jets After Promisin...  \n",
       "2  Amazon faces class-action lawsuit over eBook p...  \n",
       "3  Dow Jones Futures: $1.9 Trillion Biden Stimulu...  \n",
       "4  The Stock Market Had a Better Day Than it Seem...  "
      ]
     },
     "execution_count": 11,
     "metadata": {},
     "output_type": "execute_result"
    }
   ],
   "source": [
    "df = pd.DataFrame(parsed_data, columns = [\"ticker\", \"date\", \"time\", \"title\"])\n",
    "df.head()"
   ]
  },
  {
   "cell_type": "markdown",
   "metadata": {},
   "source": [
    "Now that we have our dataframe with the tickers, date, time and the news headline we can use from vader lexicon the SentimentIntensityAnalyzer which calculates based on the words used in the news headline if the news has a positive or negative sentiment. The compound is a aggregated value which is calculated on the negativ, neutral and positive score of the news headline"
   ]
  },
  {
   "cell_type": "code",
   "execution_count": 12,
   "metadata": {},
   "outputs": [],
   "source": [
    "vader = SentimentIntensityAnalyzer()"
   ]
  },
  {
   "cell_type": "code",
   "execution_count": 13,
   "metadata": {},
   "outputs": [],
   "source": [
    "f = lambda title:vader.polarity_scores(title)[\"compound\"]"
   ]
  },
  {
   "cell_type": "code",
   "execution_count": 14,
   "metadata": {},
   "outputs": [],
   "source": [
    "df[\"compound\"] = df[\"title\"].apply(f)\n",
    "df[\"date\"] = pd.to_datetime(df.date).dt.date"
   ]
  },
  {
   "cell_type": "code",
   "execution_count": 19,
   "metadata": {},
   "outputs": [
    {
     "data": {
      "text/html": [
       "<div>\n",
       "<style scoped>\n",
       "    .dataframe tbody tr th:only-of-type {\n",
       "        vertical-align: middle;\n",
       "    }\n",
       "\n",
       "    .dataframe tbody tr th {\n",
       "        vertical-align: top;\n",
       "    }\n",
       "\n",
       "    .dataframe thead th {\n",
       "        text-align: right;\n",
       "    }\n",
       "</style>\n",
       "<table border=\"1\" class=\"dataframe\">\n",
       "  <thead>\n",
       "    <tr style=\"text-align: right;\">\n",
       "      <th></th>\n",
       "      <th>ticker</th>\n",
       "      <th>date</th>\n",
       "      <th>time</th>\n",
       "      <th>title</th>\n",
       "      <th>compound</th>\n",
       "    </tr>\n",
       "  </thead>\n",
       "  <tbody>\n",
       "    <tr>\n",
       "      <th>0</th>\n",
       "      <td>AMZN</td>\n",
       "      <td>2021-01-15</td>\n",
       "      <td>06:00AM</td>\n",
       "      <td>Biden is the right man to address inequality: ...</td>\n",
       "      <td>0.0000</td>\n",
       "    </tr>\n",
       "    <tr>\n",
       "      <th>1</th>\n",
       "      <td>AMZN</td>\n",
       "      <td>2021-01-15</td>\n",
       "      <td>05:00AM</td>\n",
       "      <td>Amazon Keeps Buying Pricey Jets After Promisin...</td>\n",
       "      <td>0.5267</td>\n",
       "    </tr>\n",
       "    <tr>\n",
       "      <th>2</th>\n",
       "      <td>AMZN</td>\n",
       "      <td>2021-01-14</td>\n",
       "      <td>09:08PM</td>\n",
       "      <td>Amazon faces class-action lawsuit over eBook p...</td>\n",
       "      <td>-0.0516</td>\n",
       "    </tr>\n",
       "    <tr>\n",
       "      <th>3</th>\n",
       "      <td>AMZN</td>\n",
       "      <td>2021-01-14</td>\n",
       "      <td>05:48PM</td>\n",
       "      <td>Dow Jones Futures: $1.9 Trillion Biden Stimulu...</td>\n",
       "      <td>0.0000</td>\n",
       "    </tr>\n",
       "    <tr>\n",
       "      <th>4</th>\n",
       "      <td>AMZN</td>\n",
       "      <td>2021-01-14</td>\n",
       "      <td>05:01PM</td>\n",
       "      <td>The Stock Market Had a Better Day Than it Seem...</td>\n",
       "      <td>0.6597</td>\n",
       "    </tr>\n",
       "    <tr>\n",
       "      <th>5</th>\n",
       "      <td>AMZN</td>\n",
       "      <td>2021-01-14</td>\n",
       "      <td>04:31PM</td>\n",
       "      <td>Virgin Galactic Rival Blue Origin Gets 'Very, ...</td>\n",
       "      <td>0.0000</td>\n",
       "    </tr>\n",
       "    <tr>\n",
       "      <th>6</th>\n",
       "      <td>AMZN</td>\n",
       "      <td>2021-01-14</td>\n",
       "      <td>04:01PM</td>\n",
       "      <td>These Big Stocks Go Both Sides While Others Pi...</td>\n",
       "      <td>-0.6249</td>\n",
       "    </tr>\n",
       "  </tbody>\n",
       "</table>\n",
       "</div>"
      ],
      "text/plain": [
       "  ticker        date       time  \\\n",
       "0   AMZN  2021-01-15  06:00AM     \n",
       "1   AMZN  2021-01-15  05:00AM     \n",
       "2   AMZN  2021-01-14  09:08PM     \n",
       "3   AMZN  2021-01-14  05:48PM     \n",
       "4   AMZN  2021-01-14  05:01PM     \n",
       "5   AMZN  2021-01-14  04:31PM     \n",
       "6   AMZN  2021-01-14  04:01PM     \n",
       "\n",
       "                                               title  compound  \n",
       "0  Biden is the right man to address inequality: ...    0.0000  \n",
       "1  Amazon Keeps Buying Pricey Jets After Promisin...    0.5267  \n",
       "2  Amazon faces class-action lawsuit over eBook p...   -0.0516  \n",
       "3  Dow Jones Futures: $1.9 Trillion Biden Stimulu...    0.0000  \n",
       "4  The Stock Market Had a Better Day Than it Seem...    0.6597  \n",
       "5  Virgin Galactic Rival Blue Origin Gets 'Very, ...    0.0000  \n",
       "6  These Big Stocks Go Both Sides While Others Pi...   -0.6249  "
      ]
     },
     "execution_count": 19,
     "metadata": {},
     "output_type": "execute_result"
    }
   ],
   "source": [
    "df.head(7)"
   ]
  },
  {
   "cell_type": "code",
   "execution_count": 21,
   "metadata": {},
   "outputs": [
    {
     "data": {
      "text/plain": [
       "(300, 5)"
      ]
     },
     "execution_count": 21,
     "metadata": {},
     "output_type": "execute_result"
    }
   ],
   "source": [
    "df.shape"
   ]
  },
  {
   "cell_type": "code",
   "execution_count": 16,
   "metadata": {},
   "outputs": [
    {
     "data": {
      "text/html": [
       "<div>\n",
       "<style scoped>\n",
       "    .dataframe tbody tr th:only-of-type {\n",
       "        vertical-align: middle;\n",
       "    }\n",
       "\n",
       "    .dataframe tbody tr th {\n",
       "        vertical-align: top;\n",
       "    }\n",
       "\n",
       "    .dataframe thead th {\n",
       "        text-align: right;\n",
       "    }\n",
       "</style>\n",
       "<table border=\"1\" class=\"dataframe\">\n",
       "  <thead>\n",
       "    <tr style=\"text-align: right;\">\n",
       "      <th>ticker</th>\n",
       "      <th>AMD</th>\n",
       "      <th>AMZN</th>\n",
       "      <th>NVDA</th>\n",
       "    </tr>\n",
       "    <tr>\n",
       "      <th>date</th>\n",
       "      <th></th>\n",
       "      <th></th>\n",
       "      <th></th>\n",
       "    </tr>\n",
       "  </thead>\n",
       "  <tbody>\n",
       "    <tr>\n",
       "      <th>2020-12-21</th>\n",
       "      <td>-0.771700</td>\n",
       "      <td>NaN</td>\n",
       "      <td>NaN</td>\n",
       "    </tr>\n",
       "    <tr>\n",
       "      <th>2020-12-22</th>\n",
       "      <td>0.221725</td>\n",
       "      <td>NaN</td>\n",
       "      <td>NaN</td>\n",
       "    </tr>\n",
       "    <tr>\n",
       "      <th>2020-12-23</th>\n",
       "      <td>-0.131675</td>\n",
       "      <td>NaN</td>\n",
       "      <td>NaN</td>\n",
       "    </tr>\n",
       "    <tr>\n",
       "      <th>2020-12-24</th>\n",
       "      <td>-0.263350</td>\n",
       "      <td>NaN</td>\n",
       "      <td>NaN</td>\n",
       "    </tr>\n",
       "    <tr>\n",
       "      <th>2020-12-26</th>\n",
       "      <td>0.115500</td>\n",
       "      <td>NaN</td>\n",
       "      <td>NaN</td>\n",
       "    </tr>\n",
       "    <tr>\n",
       "      <th>2020-12-27</th>\n",
       "      <td>0.636900</td>\n",
       "      <td>NaN</td>\n",
       "      <td>NaN</td>\n",
       "    </tr>\n",
       "    <tr>\n",
       "      <th>2020-12-28</th>\n",
       "      <td>0.062500</td>\n",
       "      <td>NaN</td>\n",
       "      <td>NaN</td>\n",
       "    </tr>\n",
       "    <tr>\n",
       "      <th>2020-12-29</th>\n",
       "      <td>0.004740</td>\n",
       "      <td>NaN</td>\n",
       "      <td>NaN</td>\n",
       "    </tr>\n",
       "    <tr>\n",
       "      <th>2020-12-30</th>\n",
       "      <td>-0.113150</td>\n",
       "      <td>NaN</td>\n",
       "      <td>0.056667</td>\n",
       "    </tr>\n",
       "    <tr>\n",
       "      <th>2020-12-31</th>\n",
       "      <td>0.510600</td>\n",
       "      <td>NaN</td>\n",
       "      <td>0.283300</td>\n",
       "    </tr>\n",
       "    <tr>\n",
       "      <th>2021-01-01</th>\n",
       "      <td>0.250000</td>\n",
       "      <td>NaN</td>\n",
       "      <td>0.000000</td>\n",
       "    </tr>\n",
       "    <tr>\n",
       "      <th>2021-01-04</th>\n",
       "      <td>0.223833</td>\n",
       "      <td>NaN</td>\n",
       "      <td>0.168640</td>\n",
       "    </tr>\n",
       "    <tr>\n",
       "      <th>2021-01-05</th>\n",
       "      <td>0.234333</td>\n",
       "      <td>NaN</td>\n",
       "      <td>0.234717</td>\n",
       "    </tr>\n",
       "    <tr>\n",
       "      <th>2021-01-06</th>\n",
       "      <td>0.025675</td>\n",
       "      <td>NaN</td>\n",
       "      <td>0.072620</td>\n",
       "    </tr>\n",
       "    <tr>\n",
       "      <th>2021-01-07</th>\n",
       "      <td>0.045260</td>\n",
       "      <td>NaN</td>\n",
       "      <td>0.050890</td>\n",
       "    </tr>\n",
       "    <tr>\n",
       "      <th>2021-01-08</th>\n",
       "      <td>0.145013</td>\n",
       "      <td>NaN</td>\n",
       "      <td>0.325633</td>\n",
       "    </tr>\n",
       "    <tr>\n",
       "      <th>2021-01-09</th>\n",
       "      <td>0.000000</td>\n",
       "      <td>NaN</td>\n",
       "      <td>0.000000</td>\n",
       "    </tr>\n",
       "    <tr>\n",
       "      <th>2021-01-10</th>\n",
       "      <td>0.000000</td>\n",
       "      <td>NaN</td>\n",
       "      <td>NaN</td>\n",
       "    </tr>\n",
       "    <tr>\n",
       "      <th>2021-01-11</th>\n",
       "      <td>-0.048250</td>\n",
       "      <td>-0.035660</td>\n",
       "      <td>0.029731</td>\n",
       "    </tr>\n",
       "    <tr>\n",
       "      <th>2021-01-12</th>\n",
       "      <td>0.218950</td>\n",
       "      <td>0.108397</td>\n",
       "      <td>0.086829</td>\n",
       "    </tr>\n",
       "    <tr>\n",
       "      <th>2021-01-13</th>\n",
       "      <td>0.134171</td>\n",
       "      <td>0.068797</td>\n",
       "      <td>0.085629</td>\n",
       "    </tr>\n",
       "    <tr>\n",
       "      <th>2021-01-14</th>\n",
       "      <td>0.100409</td>\n",
       "      <td>0.101519</td>\n",
       "      <td>0.051133</td>\n",
       "    </tr>\n",
       "    <tr>\n",
       "      <th>2021-01-15</th>\n",
       "      <td>NaN</td>\n",
       "      <td>0.263350</td>\n",
       "      <td>NaN</td>\n",
       "    </tr>\n",
       "  </tbody>\n",
       "</table>\n",
       "</div>"
      ],
      "text/plain": [
       "ticker           AMD      AMZN      NVDA\n",
       "date                                    \n",
       "2020-12-21 -0.771700       NaN       NaN\n",
       "2020-12-22  0.221725       NaN       NaN\n",
       "2020-12-23 -0.131675       NaN       NaN\n",
       "2020-12-24 -0.263350       NaN       NaN\n",
       "2020-12-26  0.115500       NaN       NaN\n",
       "2020-12-27  0.636900       NaN       NaN\n",
       "2020-12-28  0.062500       NaN       NaN\n",
       "2020-12-29  0.004740       NaN       NaN\n",
       "2020-12-30 -0.113150       NaN  0.056667\n",
       "2020-12-31  0.510600       NaN  0.283300\n",
       "2021-01-01  0.250000       NaN  0.000000\n",
       "2021-01-04  0.223833       NaN  0.168640\n",
       "2021-01-05  0.234333       NaN  0.234717\n",
       "2021-01-06  0.025675       NaN  0.072620\n",
       "2021-01-07  0.045260       NaN  0.050890\n",
       "2021-01-08  0.145013       NaN  0.325633\n",
       "2021-01-09  0.000000       NaN  0.000000\n",
       "2021-01-10  0.000000       NaN       NaN\n",
       "2021-01-11 -0.048250 -0.035660  0.029731\n",
       "2021-01-12  0.218950  0.108397  0.086829\n",
       "2021-01-13  0.134171  0.068797  0.085629\n",
       "2021-01-14  0.100409  0.101519  0.051133\n",
       "2021-01-15       NaN  0.263350       NaN"
      ]
     },
     "execution_count": 16,
     "metadata": {},
     "output_type": "execute_result"
    }
   ],
   "source": [
    "mean_df = df.groupby([\"ticker\", \"date\"]).mean()\n",
    "mean_df = mean_df.unstack()\n",
    "mean_df = mean_df.xs(\"compound\", axis=\"columns\").transpose()\n",
    "mean_df"
   ]
  },
  {
   "cell_type": "code",
   "execution_count": 18,
   "metadata": {},
   "outputs": [
    {
     "data": {
      "image/png": "[encoded data removed]",
      "text/plain": [
       "<Figure size 864x432 with 1 Axes>"
      ]
     },
     "metadata": {
      "needs_background": "light"
     },
     "output_type": "display_data"
    }
   ],
   "source": [
    "\n",
    "mean_df.plot(kind=\"bar\", figsize=(12,6))\n",
    "plt.show()"
   ]
  }
 ],
 "metadata": {
  "kernelspec": {
   "display_name": "Python 3",
   "language": "python",
   "name": "python3"
  },
  "language_info": {
   "codemirror_mode": {
    "name": "ipython",
    "version": 3
   },
   "file_extension": ".py",
   "mimetype": "text/x-python",
   "name": "python",
   "nbconvert_exporter": "python",
   "pygments_lexer": "ipython3",
   "version": "3.6.11"
  }
 },
 "nbformat": 4,
 "nbformat_minor": 4
}
