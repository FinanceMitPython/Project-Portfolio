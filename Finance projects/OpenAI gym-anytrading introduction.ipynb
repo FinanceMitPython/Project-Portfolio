{
 "cells": [
  {
   "cell_type": "markdown",
   "metadata": {},
   "source": [
    "## Introduction to the OpenAI gym-anytrading Library\n",
    "\n",
    "In this small Notebook I will play around with the OpenAI gym framework using the anytrading enviroment where you can train an Agent to trade a certain stock. Since the framework for the Agent to train on is already build in the Library, our goal is it to write an algorithm which will learn from each trade."
   ]
  },
  {
   "cell_type": "code",
   "execution_count": 1,
   "metadata": {},
   "outputs": [],
   "source": [
    "import gym\n",
    "import gym_anytrading\n",
    "\n",
    "import yfinance\n",
    "import numpy as np\n",
    "import matplotlib.pyplot as plt"
   ]
  },
  {
   "cell_type": "code",
   "execution_count": 2,
   "metadata": {},
   "outputs": [],
   "source": [
    "#Download the historical price data from yahoo finance using yfinance\n",
    "ticker = yfinance.Ticker(\"AMC\")\n",
    "\n",
    "df = ticker.history(period=\"1y\")"
   ]
  },
  {
   "cell_type": "code",
   "execution_count": 3,
   "metadata": {},
   "outputs": [
    {
     "data": {
      "text/html": [
       "<div>\n",
       "<style scoped>\n",
       "    .dataframe tbody tr th:only-of-type {\n",
       "        vertical-align: middle;\n",
       "    }\n",
       "\n",
       "    .dataframe tbody tr th {\n",
       "        vertical-align: top;\n",
       "    }\n",
       "\n",
       "    .dataframe thead th {\n",
       "        text-align: right;\n",
       "    }\n",
       "</style>\n",
       "<table border=\"1\" class=\"dataframe\">\n",
       "  <thead>\n",
       "    <tr style=\"text-align: right;\">\n",
       "      <th></th>\n",
       "      <th>Open</th>\n",
       "      <th>High</th>\n",
       "      <th>Low</th>\n",
       "      <th>Close</th>\n",
       "      <th>Volume</th>\n",
       "      <th>Dividends</th>\n",
       "      <th>Stock Splits</th>\n",
       "    </tr>\n",
       "    <tr>\n",
       "      <th>Date</th>\n",
       "      <th></th>\n",
       "      <th></th>\n",
       "      <th></th>\n",
       "      <th></th>\n",
       "      <th></th>\n",
       "      <th></th>\n",
       "      <th></th>\n",
       "    </tr>\n",
       "  </thead>\n",
       "  <tbody>\n",
       "    <tr>\n",
       "      <th>2020-07-15</th>\n",
       "      <td>4.37</td>\n",
       "      <td>4.58</td>\n",
       "      <td>4.22</td>\n",
       "      <td>4.50</td>\n",
       "      <td>4830700</td>\n",
       "      <td>0</td>\n",
       "      <td>0</td>\n",
       "    </tr>\n",
       "    <tr>\n",
       "      <th>2020-07-16</th>\n",
       "      <td>4.33</td>\n",
       "      <td>4.48</td>\n",
       "      <td>4.31</td>\n",
       "      <td>4.38</td>\n",
       "      <td>1997500</td>\n",
       "      <td>0</td>\n",
       "      <td>0</td>\n",
       "    </tr>\n",
       "    <tr>\n",
       "      <th>2020-07-17</th>\n",
       "      <td>4.36</td>\n",
       "      <td>4.37</td>\n",
       "      <td>4.20</td>\n",
       "      <td>4.27</td>\n",
       "      <td>2101700</td>\n",
       "      <td>0</td>\n",
       "      <td>0</td>\n",
       "    </tr>\n",
       "    <tr>\n",
       "      <th>2020-07-20</th>\n",
       "      <td>4.21</td>\n",
       "      <td>4.23</td>\n",
       "      <td>4.07</td>\n",
       "      <td>4.15</td>\n",
       "      <td>2393100</td>\n",
       "      <td>0</td>\n",
       "      <td>0</td>\n",
       "    </tr>\n",
       "    <tr>\n",
       "      <th>2020-07-21</th>\n",
       "      <td>4.15</td>\n",
       "      <td>4.24</td>\n",
       "      <td>4.08</td>\n",
       "      <td>4.15</td>\n",
       "      <td>1925900</td>\n",
       "      <td>0</td>\n",
       "      <td>0</td>\n",
       "    </tr>\n",
       "  </tbody>\n",
       "</table>\n",
       "</div>"
      ],
      "text/plain": [
       "            Open  High   Low  Close   Volume  Dividends  Stock Splits\n",
       "Date                                                                 \n",
       "2020-07-15  4.37  4.58  4.22   4.50  4830700          0             0\n",
       "2020-07-16  4.33  4.48  4.31   4.38  1997500          0             0\n",
       "2020-07-17  4.36  4.37  4.20   4.27  2101700          0             0\n",
       "2020-07-20  4.21  4.23  4.07   4.15  2393100          0             0\n",
       "2020-07-21  4.15  4.24  4.08   4.15  1925900          0             0"
      ]
     },
     "execution_count": 3,
     "metadata": {},
     "output_type": "execute_result"
    }
   ],
   "source": [
    "#looking at the first 5 rows\n",
    "df.head()"
   ]
  },
  {
   "cell_type": "code",
   "execution_count": 4,
   "metadata": {},
   "outputs": [],
   "source": [
    "#Creating the enviroment\n",
    "env = gym.make(\"stocks-v0\", df=df, frame_bound=(10,100), window_size=5)"
   ]
  },
  {
   "cell_type": "code",
   "execution_count": 11,
   "metadata": {},
   "outputs": [
    {
     "name": "stdout",
     "output_type": "stream",
     "text": [
      "{'total_reward': -2.879999876022339, 'total_profit': 0.3604746683651383, 'position': 0}\n"
     ]
    },
    {
     "data": {
      "image/png": "[encoded data removed]",
      "text/plain": [
       "<Figure size 432x288 with 1 Axes>"
      ]
     },
     "metadata": {
      "needs_background": "light"
     },
     "output_type": "display_data"
    }
   ],
   "source": [
    "#reseting the state so we start t=0\n",
    "state = env.reset()\n",
    "\n",
    "#Performing one complete random trade on the data\n",
    "while True:\n",
    "    action = env.action_space.sample()\n",
    "    new_state, reward, done, info = env.step(action)\n",
    "    if done:\n",
    "        print(info)\n",
    "        env.render_all()\n",
    "        break"
   ]
  },
  {
   "cell_type": "code",
   "execution_count": 14,
   "metadata": {},
   "outputs": [
    {
     "name": "stdout",
     "output_type": "stream",
     "text": [
      "{'total_reward': 1.929999828338623, 'total_profit': 1.2007875687585035, 'position': 0}\n",
      "{'total_reward': 2.7900009155273438, 'total_profit': 1.3726616750678924, 'position': 1}\n",
      "{'total_reward': 0.2999997138977051, 'total_profit': 0.6262112229933502, 'position': 1}\n",
      "{'total_reward': -1.7599992752075195, 'total_profit': 0.43600917999933386, 'position': 0}\n",
      "{'total_reward': -0.7599999904632568, 'total_profit': 0.5483789110664109, 'position': 1}\n",
      "{'total_reward': -0.3600008487701416, 'total_profit': 0.7153110518858169, 'position': 0}\n",
      "{'total_reward': 0.5200002193450928, 'total_profit': 0.6754915558382728, 'position': 0}\n",
      "{'total_reward': 0.880000114440918, 'total_profit': 0.8902993001671238, 'position': 1}\n",
      "{'total_reward': -1.9899992942810059, 'total_profit': 0.4818969163492233, 'position': 0}\n",
      "{'total_reward': -0.39999961853027344, 'total_profit': 0.5235099272610642, 'position': 1}\n"
     ]
    }
   ],
   "source": [
    "#Performing 10 complete runs and printing the total reward and the total profit for each run\n",
    "\n",
    "for i in range(10):\n",
    "    state = env.reset()\n",
    "    while True:\n",
    "        action = env.action_space.sample()\n",
    "        new_state, reward, done, info = env.step(action)\n",
    "        if done:\n",
    "            print(info)\n",
    "            break"
   ]
  },
  {
   "cell_type": "code",
   "execution_count": null,
   "metadata": {},
   "outputs": [
    {
     "name": "stdout",
     "output_type": "stream",
     "text": [
      "action:  1\n",
      "state:  [[ 4.05999994  0.02999973]\n",
      " [ 4.         -0.05999994]\n",
      " [ 3.86999989 -0.13000011]\n",
      " [ 4.1500001   0.28000021]\n",
      " [ 4.15999985  0.00999975]]\n",
      "reward:  0\n",
      "input\n",
      "action:  0\n",
      "state:  [[ 4.         -0.05999994]\n",
      " [ 3.86999989 -0.13000011]\n",
      " [ 4.1500001   0.28000021]\n",
      " [ 4.15999985  0.00999975]\n",
      " [ 4.11999989 -0.03999996]]\n",
      "reward:  -0.07999992370605469\n",
      "input\n",
      "action:  0\n",
      "state:  [[ 3.86999989 -0.13000011]\n",
      " [ 4.1500001   0.28000021]\n",
      " [ 4.15999985  0.00999975]\n",
      " [ 4.11999989 -0.03999996]\n",
      " [ 4.03999996 -0.07999992]]\n",
      "reward:  0\n",
      "input\n",
      "action:  1\n",
      "state:  [[ 4.1500001   0.28000021]\n",
      " [ 4.15999985  0.00999975]\n",
      " [ 4.11999989 -0.03999996]\n",
      " [ 4.03999996 -0.07999992]\n",
      " [ 4.11000013  0.07000017]]\n",
      "reward:  0\n",
      "input\n",
      "action:  1\n",
      "state:  [[ 4.15999985  0.00999975]\n",
      " [ 4.11999989 -0.03999996]\n",
      " [ 4.03999996 -0.07999992]\n",
      " [ 4.11000013  0.07000017]\n",
      " [ 4.0999999  -0.01000023]]\n",
      "reward:  0\n",
      "input\n",
      "action:  0\n",
      "state:  [[ 4.11999989 -0.03999996]\n",
      " [ 4.03999996 -0.07999992]\n",
      " [ 4.11000013  0.07000017]\n",
      " [ 4.0999999  -0.01000023]\n",
      " [ 4.1500001   0.05000019]]\n",
      "reward:  0.039999961853027344\n",
      "input\n",
      "action:  1\n",
      "state:  [[ 4.03999996 -0.07999992]\n",
      " [ 4.11000013  0.07000017]\n",
      " [ 4.0999999  -0.01000023]\n",
      " [ 4.1500001   0.05000019]\n",
      " [ 4.13999987 -0.01000023]]\n",
      "reward:  0\n",
      "input\n",
      "action:  0\n",
      "state:  [[ 4.11000013  0.07000017]\n",
      " [ 4.0999999  -0.01000023]\n",
      " [ 4.1500001   0.05000019]\n",
      " [ 4.13999987 -0.01000023]\n",
      " [ 4.75        0.61000013]]\n",
      "reward:  -0.2800002098083496\n",
      "input\n",
      "action:  1\n",
      "state:  [[ 4.0999999  -0.01000023]\n",
      " [ 4.1500001   0.05000019]\n",
      " [ 4.13999987 -0.01000023]\n",
      " [ 4.75        0.61000013]\n",
      " [ 4.46999979 -0.28000021]]\n",
      "reward:  0\n"
     ]
    }
   ],
   "source": [
    "#Printing 10 random actions, states, rewards for visualizing the process in the framework\n",
    "state = env.reset()\n",
    "\n",
    "while True:\n",
    "    action = env.action_space.sample()\n",
    "    new_state, reward, done, info = env.step(action)\n",
    "    print(\"action: \",action)\n",
    "    print(\"state: \",new_state)\n",
    "    print(\"reward: \",reward)\n",
    "    input()\n",
    "    if done:\n",
    "        print(info)\n",
    "        env.render_all()\n",
    "        break"
   ]
  }
 ],
 "metadata": {
  "kernelspec": {
   "display_name": "Python 3",
   "language": "python",
   "name": "python3"
  },
  "language_info": {
   "codemirror_mode": {
    "name": "ipython",
    "version": 3
   },
   "file_extension": ".py",
   "mimetype": "text/x-python",
   "name": "python",
   "nbconvert_exporter": "python",
   "pygments_lexer": "ipython3",
   "version": "3.8.6"
  }
 },
 "nbformat": 4,
 "nbformat_minor": 4
}
