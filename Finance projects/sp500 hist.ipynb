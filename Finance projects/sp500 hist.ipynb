{
 "cells": [
  {
   "cell_type": "markdown",
   "metadata": {},
   "source": [
    "## Historical S&P 500 composition"
   ]
  },
  {
   "cell_type": "markdown",
   "metadata": {},
   "source": [
    "The goal of this script is to create historical S&P500 composition using the table of \"Selected changes to the list of S&P 500 components\" from wikipedia. Therefore a guarenteed correctness can not be fullfilled. It depends on the correctness of the table"
   ]
  },
  {
   "cell_type": "code",
   "execution_count": 1,
   "metadata": {},
   "outputs": [],
   "source": [
    "#Import the libraries\n",
    "import numpy as np\n",
    "import pandas as pd\n",
    "import copy\n",
    "from datetime import datetime, timedelta"
   ]
  },
  {
   "cell_type": "code",
   "execution_count": 2,
   "metadata": {},
   "outputs": [],
   "source": [
    "#Reading in the 2 tables from wikipedia\n",
    "data = pd.read_html(\"https://en.wikipedia.org/wiki/List_of_S%26P_500_companies\")\n",
    "sp_today = data[0] #table of SP500 today\n",
    "sp_changes = data[1] #tables of changes since 1997"
   ]
  },
  {
   "cell_type": "code",
   "execution_count": 3,
   "metadata": {},
   "outputs": [],
   "source": [
    "#Setting the head of the table right\n",
    "sp_changes.columns = [\"Date\", \"Added_Ticker\", \"Added_Security\", \"Removed_Ticker\", \"Removed_Security\", \"Reason\"]"
   ]
  },
  {
   "cell_type": "code",
   "execution_count": 4,
   "metadata": {},
   "outputs": [],
   "source": [
    "#Changing the Date columns to a Datetime object\n",
    "sp_changes[\"Date\"] = pd.to_datetime(sp_changes[\"Date\"])\n",
    "#fill all the Nan values with 0 for easier handling\n",
    "sp_changes.fillna(\"0\", inplace=True)"
   ]
  },
  {
   "cell_type": "code",
   "execution_count": 5,
   "metadata": {},
   "outputs": [
    {
     "data": {
      "text/plain": [
       "Timestamp('1999-12-07 00:00:00')"
      ]
     },
     "execution_count": 5,
     "metadata": {},
     "output_type": "execute_result"
    }
   ],
   "source": [
    "#See the last date of recorded changes in the changes table\n",
    "list(sp_changes[\"Date\"])[-1]"
   ]
  },
  {
   "cell_type": "code",
   "execution_count": 6,
   "metadata": {},
   "outputs": [],
   "source": [
    "#creating a variable for the last date and today\n",
    "last_date = list(sp_changes[\"Date\"])[-1].date()\n",
    "today = datetime.now().date()"
   ]
  },
  {
   "cell_type": "code",
   "execution_count": 7,
   "metadata": {},
   "outputs": [],
   "source": [
    "#creating a variable with all the tickers in the sp500 today\n",
    "tickers_today = list(sp_today[\"Symbol\"])"
   ]
  },
  {
   "cell_type": "code",
   "execution_count": 8,
   "metadata": {},
   "outputs": [
    {
     "name": "stderr",
     "output_type": "stream",
     "text": [
      "C:\\Users\\Han\\AppData\\Local\\Temp/ipykernel_6328/2339500110.py:12: FutureWarning: Comparison of Timestamp with datetime.date is deprecated in order to match the standard library behavior.  In a future version these will be considered non-comparable.Use 'ts == pd.Timestamp(date)' or 'ts.date() == date' instead.\n",
      "  if ticker[0] == last_date:\n"
     ]
    }
   ],
   "source": [
    "#Create an empty dictionary to fill with dates and tickers\n",
    "tickers_on_date = {}\n",
    "today = pd.to_datetime(datetime.today().date())\n",
    "tickers_today = list(sp_today[\"Symbol\"])\n",
    "tickers_updated = tickers_today\n",
    "\n",
    "for ticker in sp_changes.values:\n",
    "    tickers_today = tickers_updated\n",
    "    while today != ticker[0]:\n",
    "        tickers_on_date[str(today)] = tickers_today\n",
    "        today -= timedelta(1)\n",
    "    if ticker[0] == last_date:\n",
    "        break\n",
    "    elif ticker[1] == \"0\":\n",
    "        tickers_updated = copy.deepcopy(tickers_today)\n",
    "        tickers_updated.append(ticker[3])\n",
    "    elif ticker[3] == \"0\":\n",
    "        tickers_updated = copy.deepcopy(tickers_today)\n",
    "        tickers_updated.remove(ticker[1])\n",
    "\n",
    "    try:\n",
    "        tickers_updated = copy.deepcopy(tickers_today)\n",
    "        tickers_updated.append(ticker[3])\n",
    "        tickers_updated.remove(ticker[1])\n",
    "    except ValueError:\n",
    "        continue\n",
    "    tickers_on_date[str(today)] = tickers_updated\n"
   ]
  },
  {
   "cell_type": "code",
   "execution_count": 9,
   "metadata": {},
   "outputs": [],
   "source": [
    "#Test out if our dictionary with historical sp500 composition is right\n",
    "def test_true(ticker_name, timestamp):\n",
    "    if ticker_name in tickers_on_date[timestamp]:\n",
    "        print(ticker_name, \"is in the S&P500 at the timestamp: \", timestamp)\n",
    "    else:\n",
    "        print(ticker_name, \"is not in the S&P500 at the timestamp: \", timestamp)"
   ]
  },
  {
   "cell_type": "code",
   "execution_count": 10,
   "metadata": {},
   "outputs": [
    {
     "name": "stdout",
     "output_type": "stream",
     "text": [
      "FB is in the S&P500 at the timestamp:  2013-12-24 00:00:00\n"
     ]
    }
   ],
   "source": [
    "test_true(\"FB\", \"2013-12-24 00:00:00\")"
   ]
  },
  {
   "cell_type": "code",
   "execution_count": 11,
   "metadata": {},
   "outputs": [],
   "source": [
    "#tickers_on_date.keys()"
   ]
  }
 ],
 "metadata": {
  "interpreter": {
   "hash": "f4b266163e700564942675836056a5cf84003ba42a51d3031b8e716e60c1259c"
  },
  "kernelspec": {
   "display_name": "Python 3.8.6 64-bit ('tensorflow': conda)",
   "language": "python",
   "name": "python3"
  },
  "language_info": {
   "codemirror_mode": {
    "name": "ipython",
    "version": 3
   },
   "file_extension": ".py",
   "mimetype": "text/x-python",
   "name": "python",
   "nbconvert_exporter": "python",
   "pygments_lexer": "ipython3",
   "version": "3.9.7"
  },
  "orig_nbformat": 4
 },
 "nbformat": 4,
 "nbformat_minor": 2
}
